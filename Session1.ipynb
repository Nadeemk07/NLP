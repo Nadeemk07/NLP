{
 "cells": [
  {
   "cell_type": "code",
   "execution_count": 1,
   "metadata": {},
   "outputs": [
    {
     "name": "stdout",
     "output_type": "stream",
     "text": [
      "showing info https://raw.githubusercontent.com/nltk/nltk_data/gh-pages/index.xml\n"
     ]
    },
    {
     "data": {
      "text/plain": [
       "True"
      ]
     },
     "execution_count": 1,
     "metadata": {},
     "output_type": "execute_result"
    }
   ],
   "source": [
    "import nltk\n",
    "nltk.download()"
   ]
  },
  {
   "cell_type": "code",
   "execution_count": 2,
   "metadata": {},
   "outputs": [
    {
     "data": {
      "text/plain": [
       "['adventure',\n",
       " 'belles_lettres',\n",
       " 'editorial',\n",
       " 'fiction',\n",
       " 'government',\n",
       " 'hobbies',\n",
       " 'humor',\n",
       " 'learned',\n",
       " 'lore',\n",
       " 'mystery',\n",
       " 'news',\n",
       " 'religion',\n",
       " 'reviews',\n",
       " 'romance',\n",
       " 'science_fiction']"
      ]
     },
     "execution_count": 2,
     "metadata": {},
     "output_type": "execute_result"
    }
   ],
   "source": [
    "from nltk.corpus import brown \n",
    "brown.categories()"
   ]
  },
  {
   "cell_type": "code",
   "execution_count": 3,
   "metadata": {},
   "outputs": [
    {
     "data": {
      "text/plain": [
       "['Dan',\n",
       " 'Morgan',\n",
       " 'told',\n",
       " 'himself',\n",
       " 'he',\n",
       " 'would',\n",
       " 'forget',\n",
       " 'Ann',\n",
       " 'Turner',\n",
       " '.',\n",
       " 'He',\n",
       " 'was',\n",
       " 'well',\n",
       " 'rid',\n",
       " 'of',\n",
       " 'her',\n",
       " '.',\n",
       " 'He',\n",
       " 'certainly',\n",
       " \"didn't\"]"
      ]
     },
     "execution_count": 3,
     "metadata": {},
     "output_type": "execute_result"
    }
   ],
   "source": [
    "brown.words(categories = 'adventure')[:20]"
   ]
  },
  {
   "cell_type": "markdown",
   "metadata": {},
   "source": [
    "# Inaugural Corpus"
   ]
  },
  {
   "cell_type": "code",
   "execution_count": 4,
   "metadata": {},
   "outputs": [
    {
     "data": {
      "text/plain": [
       "['1789-Washington.txt',\n",
       " '1793-Washington.txt',\n",
       " '1797-Adams.txt',\n",
       " '1801-Jefferson.txt',\n",
       " '1805-Jefferson.txt',\n",
       " '1809-Madison.txt',\n",
       " '1813-Madison.txt',\n",
       " '1817-Monroe.txt',\n",
       " '1821-Monroe.txt',\n",
       " '1825-Adams.txt',\n",
       " '1829-Jackson.txt',\n",
       " '1833-Jackson.txt',\n",
       " '1837-VanBuren.txt',\n",
       " '1841-Harrison.txt',\n",
       " '1845-Polk.txt',\n",
       " '1849-Taylor.txt',\n",
       " '1853-Pierce.txt',\n",
       " '1857-Buchanan.txt',\n",
       " '1861-Lincoln.txt',\n",
       " '1865-Lincoln.txt',\n",
       " '1869-Grant.txt',\n",
       " '1873-Grant.txt',\n",
       " '1877-Hayes.txt',\n",
       " '1881-Garfield.txt',\n",
       " '1885-Cleveland.txt',\n",
       " '1889-Harrison.txt',\n",
       " '1893-Cleveland.txt',\n",
       " '1897-McKinley.txt',\n",
       " '1901-McKinley.txt',\n",
       " '1905-Roosevelt.txt',\n",
       " '1909-Taft.txt',\n",
       " '1913-Wilson.txt',\n",
       " '1917-Wilson.txt',\n",
       " '1921-Harding.txt',\n",
       " '1925-Coolidge.txt',\n",
       " '1929-Hoover.txt',\n",
       " '1933-Roosevelt.txt',\n",
       " '1937-Roosevelt.txt',\n",
       " '1941-Roosevelt.txt',\n",
       " '1945-Roosevelt.txt',\n",
       " '1949-Truman.txt',\n",
       " '1953-Eisenhower.txt',\n",
       " '1957-Eisenhower.txt',\n",
       " '1961-Kennedy.txt',\n",
       " '1965-Johnson.txt',\n",
       " '1969-Nixon.txt',\n",
       " '1973-Nixon.txt',\n",
       " '1977-Carter.txt',\n",
       " '1981-Reagan.txt',\n",
       " '1985-Reagan.txt',\n",
       " '1989-Bush.txt',\n",
       " '1993-Clinton.txt',\n",
       " '1997-Clinton.txt',\n",
       " '2001-Bush.txt',\n",
       " '2005-Bush.txt',\n",
       " '2009-Obama.txt',\n",
       " '2013-Obama.txt',\n",
       " '2017-Trump.txt']"
      ]
     },
     "execution_count": 4,
     "metadata": {},
     "output_type": "execute_result"
    }
   ],
   "source": [
    "from nltk.corpus import inaugural\n",
    "inaugural.fileids()"
   ]
  },
  {
   "cell_type": "code",
   "execution_count": 5,
   "metadata": {},
   "outputs": [
    {
     "data": {
      "text/plain": [
       "['Thank',\n",
       " 'you',\n",
       " '.',\n",
       " 'Thank',\n",
       " 'you',\n",
       " 'so',\n",
       " 'much',\n",
       " '.',\n",
       " 'Vice',\n",
       " 'President',\n",
       " 'Biden',\n",
       " ',',\n",
       " 'Mr',\n",
       " '.',\n",
       " 'Chief',\n",
       " 'Justice',\n",
       " ',',\n",
       " 'Members',\n",
       " 'of',\n",
       " 'the',\n",
       " 'United',\n",
       " 'States',\n",
       " 'Congress',\n",
       " ',',\n",
       " 'distinguished',\n",
       " 'guests',\n",
       " ',',\n",
       " 'and',\n",
       " 'fellow',\n",
       " 'citizens',\n",
       " ':',\n",
       " 'Each',\n",
       " 'time',\n",
       " 'we',\n",
       " 'gather',\n",
       " 'to',\n",
       " 'inaugurate',\n",
       " 'a',\n",
       " 'President',\n",
       " 'we',\n",
       " 'bear',\n",
       " 'witness',\n",
       " 'to',\n",
       " 'the',\n",
       " 'enduring',\n",
       " 'strength',\n",
       " 'of',\n",
       " 'our',\n",
       " 'Constitution',\n",
       " '.']"
      ]
     },
     "execution_count": 5,
     "metadata": {},
     "output_type": "execute_result"
    }
   ],
   "source": [
    "inaugural.words(fileids = '2013-Obama.txt')[:50]"
   ]
  },
  {
   "cell_type": "markdown",
   "metadata": {},
   "source": [
    "# Webtext"
   ]
  },
  {
   "cell_type": "code",
   "execution_count": 7,
   "metadata": {},
   "outputs": [
    {
     "name": "stderr",
     "output_type": "stream",
     "text": [
      "[nltk_data] Downloading package webtext to\n",
      "[nltk_data]     C:\\Users\\WELCOME\\AppData\\Roaming\\nltk_data...\n",
      "[nltk_data]   Unzipping corpora\\webtext.zip.\n"
     ]
    },
    {
     "data": {
      "text/plain": [
       "True"
      ]
     },
     "execution_count": 7,
     "metadata": {},
     "output_type": "execute_result"
    }
   ],
   "source": [
    "nltk.download('webtext')"
   ]
  },
  {
   "cell_type": "code",
   "execution_count": 8,
   "metadata": {},
   "outputs": [
    {
     "data": {
      "text/plain": [
       "['Lovely',\n",
       " 'delicate',\n",
       " ',',\n",
       " 'fragrant',\n",
       " 'Rhone',\n",
       " 'wine',\n",
       " '.',\n",
       " 'Polished',\n",
       " 'leather',\n",
       " 'and',\n",
       " 'strawberries',\n",
       " '.',\n",
       " 'Perhaps',\n",
       " 'a',\n",
       " 'bit',\n",
       " 'dilute',\n",
       " ',',\n",
       " 'but',\n",
       " 'good',\n",
       " 'for']"
      ]
     },
     "execution_count": 8,
     "metadata": {},
     "output_type": "execute_result"
    }
   ],
   "source": [
    "from nltk.corpus import webtext\n",
    "webtext.words(fileids = 'wine.txt')[:20]"
   ]
  },
  {
   "cell_type": "markdown",
   "metadata": {},
   "source": [
    "# Freq-Dist"
   ]
  },
  {
   "cell_type": "code",
   "execution_count": 9,
   "metadata": {},
   "outputs": [
    {
     "data": {
      "text/plain": [
       "FreqDist({'.': 2772, ',': 1536, '-': 832, 'a': 821, 'and': 787, 'the': 706, '***': 498, 'of': 482, 'but': 474, 'I': 392, ...})"
      ]
     },
     "execution_count": 9,
     "metadata": {},
     "output_type": "execute_result"
    }
   ],
   "source": [
    "text = webtext.words(fileids = 'wine.txt')\n",
    "fd = nltk.FreqDist(text)\n",
    "fd"
   ]
  },
  {
   "cell_type": "code",
   "execution_count": 10,
   "metadata": {},
   "outputs": [],
   "source": [
    "from nltk.probability import ConditionalFreqDist\n",
    "cfd = ConditionalFreqDist((len(word), word) for word in text)"
   ]
  },
  {
   "cell_type": "code",
   "execution_count": 11,
   "metadata": {},
   "outputs": [
    {
     "data": {
      "text/plain": [
       "FreqDist({'fruit': 296, 'quite': 204, 'touch': 146, 'Quite': 99, 'toned': 62, '**(*)': 57, 'wines': 55, 'drink': 55, 'seems': 53, '*****': 53, ...})"
      ]
     },
     "execution_count": 11,
     "metadata": {},
     "output_type": "execute_result"
    }
   ],
   "source": [
    "cfd[5]"
   ]
  },
  {
   "cell_type": "code",
   "execution_count": 12,
   "metadata": {},
   "outputs": [
    {
     "name": "stdout",
     "output_type": "stream",
     "text": [
      "712\n"
     ]
    },
    {
     "data": {
      "text/plain": [
       "[('the', 55),\n",
       " ('to', 26),\n",
       " ('and', 24),\n",
       " ('of', 22),\n",
       " ('it', 12),\n",
       " ('war', 12),\n",
       " ('that', 11),\n",
       " ('for', 9),\n",
       " ('in', 9),\n",
       " ('which', 9),\n",
       " ('be', 8),\n",
       " ('all', 8),\n",
       " ('this', 7),\n",
       " ('a', 7),\n",
       " ('is', 6),\n",
       " ('by', 6),\n",
       " ('with', 6),\n",
       " ('God', 6),\n",
       " ('we', 6),\n",
       " ('was', 5),\n",
       " ('as', 5),\n",
       " ('but', 5),\n",
       " ('shall', 5),\n",
       " ('than', 4),\n",
       " ('years', 4),\n",
       " ('Union', 4),\n",
       " ('let', 4),\n",
       " ('not', 4),\n",
       " ('do', 4),\n",
       " ('s', 4),\n",
       " ('an', 3),\n",
       " ('nation', 3),\n",
       " ('The', 3),\n",
       " ('were', 3),\n",
       " ('from', 3),\n",
       " ('would', 3),\n",
       " ('other', 3),\n",
       " ('interest', 3),\n",
       " ('right', 3),\n",
       " ('has', 3),\n",
       " ('His', 3),\n",
       " ('may', 3),\n",
       " ('us', 3),\n",
       " ('offenses', 3),\n",
       " ('must', 3),\n",
       " ('those', 3),\n",
       " ('there', 2),\n",
       " ('less', 2),\n",
       " ('occasion', 2),\n",
       " ('address', 2)]"
      ]
     },
     "execution_count": 12,
     "metadata": {},
     "output_type": "execute_result"
    }
   ],
   "source": [
    "Lincoln = '1865-Lincoln.txt'\n",
    "Lincoln_speech = inaugural.words(fileids=Lincoln)\n",
    "Lincoln_speech_length = len([word for word in Lincoln_speech if word not in \"',./-?!\"])\n",
    "print(Lincoln_speech_length)\n",
    "Lincoln_fd = nltk.FreqDist([word for word in Lincoln_speech if word not in \"',./-?!\"])\n",
    "Lincoln_fd.most_common(50)"
   ]
  },
  {
   "cell_type": "code",
   "execution_count": 13,
   "metadata": {},
   "outputs": [
    {
     "name": "stdout",
     "output_type": "stream",
     "text": [
      "2157\n"
     ]
    },
    {
     "data": {
      "text/plain": [
       "[('the', 100),\n",
       " ('and', 85),\n",
       " ('of', 69),\n",
       " ('our', 69),\n",
       " ('to', 66),\n",
       " ('that', 51),\n",
       " ('we', 46),\n",
       " ('a', 36),\n",
       " ('is', 25),\n",
       " ('We', 23),\n",
       " ('not', 23),\n",
       " ('for', 22),\n",
       " ('us', 21),\n",
       " ('in', 21),\n",
       " ('are', 21),\n",
       " ('will', 20),\n",
       " ('must', 17),\n",
       " (';', 14),\n",
       " ('or', 13),\n",
       " ('\\x80\\x94', 13),\n",
       " ('this', 12),\n",
       " ('all', 12),\n",
       " ('with', 12),\n",
       " ('as', 12),\n",
       " ('by', 11),\n",
       " ('those', 11),\n",
       " ('people', 11),\n",
       " ('s', 11),\n",
       " ('these', 10),\n",
       " ('be', 10),\n",
       " ('from', 10),\n",
       " ('time', 9),\n",
       " ('it', 9),\n",
       " ('have', 9),\n",
       " ('do', 8),\n",
       " ('America', 8),\n",
       " ('who', 8),\n",
       " ('what', 7),\n",
       " ('more', 7),\n",
       " ('they', 7),\n",
       " ('on', 7),\n",
       " ('when', 7),\n",
       " ('can', 7),\n",
       " ('Our', 7),\n",
       " ('country', 7),\n",
       " ('make', 7),\n",
       " ('every', 7),\n",
       " ('but', 7),\n",
       " ('so', 6),\n",
       " ('citizens', 6)]"
      ]
     },
     "execution_count": 13,
     "metadata": {},
     "output_type": "execute_result"
    }
   ],
   "source": [
    "Obama = '2013-Obama.txt'\n",
    "Obama_speech = inaugural.words(fileids=Obama)\n",
    "Obama_speech_length = len([word for word in Obama_speech if word not in \"',./-?!\"])\n",
    "print(Obama_speech_length)\n",
    "Obama_fd = nltk.FreqDist([word for word in Obama_speech if word not in \"',./-?!\"])\n",
    "Obama_fd.most_common(50)"
   ]
  },
  {
   "cell_type": "code",
   "execution_count": null,
   "metadata": {},
   "outputs": [],
   "source": []
  }
 ],
 "metadata": {
  "kernelspec": {
   "display_name": "Python 3",
   "language": "python",
   "name": "python3"
  },
  "language_info": {
   "codemirror_mode": {
    "name": "ipython",
    "version": 3
   },
   "file_extension": ".py",
   "mimetype": "text/x-python",
   "name": "python",
   "nbconvert_exporter": "python",
   "pygments_lexer": "ipython3",
   "version": "3.8.2"
  }
 },
 "nbformat": 4,
 "nbformat_minor": 4
}
